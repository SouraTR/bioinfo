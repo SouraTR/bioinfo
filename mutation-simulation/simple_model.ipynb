{
 "cells": [
  {
   "cell_type": "markdown",
   "id": "27133279",
   "metadata": {},
   "source": [
    "## Mutation and p-distance\n",
    "\n",
    "Imagine a DNA sequence in an ancient ancestral species. With generations, the DNA sequence has accumulated mutations on it. This will drive changes in the phenotype and may eventually give rise to speciation."
   ]
  },
  {
   "cell_type": "code",
   "execution_count": 147,
   "id": "200d9b55",
   "metadata": {},
   "outputs": [],
   "source": [
    "from Bio import Seq\n",
    "import random"
   ]
  },
  {
   "cell_type": "code",
   "execution_count": 148,
   "id": "7a50a0e9",
   "metadata": {},
   "outputs": [],
   "source": [
    "bases = (\"A\", \"T\", \"G\", \"C\")\n",
    "def hamming_distance(s1, s2):\n",
    "    if len(s1) != len(s2):\n",
    "        raise ValueError(\"Strand lengths are not equal!\")\n",
    "    return sum(ch1 != ch2 for ch1,ch2 in zip(s1,s2))"
   ]
  },
  {
   "cell_type": "markdown",
   "id": "b52eb2e9",
   "metadata": {},
   "source": [
    "**Generate a random DNA sequence of length 100 bases**"
   ]
  },
  {
   "cell_type": "code",
   "execution_count": 161,
   "id": "715089e5",
   "metadata": {},
   "outputs": [],
   "source": [
    "sequence = \"\".join(random.choices(bases, k=100))\n",
    "sequence = Seq.MutableSeq(sequence)\n",
    "orig_sequence = sequence[:]\n",
    "len_sequence = len(orig_sequence)"
   ]
  },
  {
   "cell_type": "markdown",
   "id": "5c9f08de",
   "metadata": {},
   "source": [
    "**We have defined `hamming_distance()` which returns the distance between two sequences**\n",
    "We are assuming changing the base at the position to anything else than what it was in the ancestral species will increase the hamming distance. The ancestral DNA sequence is our reference.\n",
    "\n",
    "It is to be noted that reversals will decrease the distance. The generations parameter can be changed to increase or decrease the time period of the observations"
   ]
  },
  {
   "cell_type": "code",
   "execution_count": 162,
   "id": "2c102132",
   "metadata": {},
   "outputs": [],
   "source": [
    "y_pdist = []\n",
    "x_generation = []\n",
    "\n",
    "generations = 1000\n",
    "\n",
    "for gen in range(generations):\n",
    "    pos = random.choice(range(len_sequence))\n",
    "    ###regardless of position of the gene\n",
    "#     sequence[pos] = random.choice(bases)\n",
    "    ###only allow mutation when the base is at wobble position / assuming the third position is always silent mut\n",
    "    if pos%3 == 0:  \n",
    "        sequence[pos] = random.choice(bases)\n",
    "    x_generation.append(gen)\n",
    "    y_pdist.append(hamming_distance(orig_sequence, sequence)/len_sequence)\n",
    "    "
   ]
  },
  {
   "cell_type": "code",
   "execution_count": 163,
   "id": "ca426c8a",
   "metadata": {},
   "outputs": [],
   "source": [
    "from matplotlib import pyplot as plt"
   ]
  },
  {
   "cell_type": "code",
   "execution_count": 165,
   "id": "effbf6e9",
   "metadata": {},
   "outputs": [
    {
     "data": {
      "image/png": "[encoded data removed]",
      "text/plain": [
       "<Figure size 640x480 with 1 Axes>"
      ]
     },
     "metadata": {},
     "output_type": "display_data"
    }
   ],
   "source": [
    "plt.plot(x_generation, y_pdist, color=\"orange\", linewidth=0.5)\n",
    "plt.ylim(0, 1)\n",
    "plt.xlim(0, generations)\n",
    "plt.show()"
   ]
  },
  {
   "attachments": {},
   "cell_type": "markdown",
   "id": "f1906bdf",
   "metadata": {},
   "source": [
    "The hamming distance or p-distance saturates at 25%"
   ]
  }
 ],
 "metadata": {
  "kernelspec": {
   "display_name": "Python 3 (ipykernel)",
   "language": "python",
   "name": "python3"
  },
  "language_info": {
   "codemirror_mode": {
    "name": "ipython",
    "version": 3
   },
   "file_extension": ".py",
   "mimetype": "text/x-python",
   "name": "python",
   "nbconvert_exporter": "python",
   "pygments_lexer": "ipython3",
   "version": "3.9.15"
  }
 },
 "nbformat": 4,
 "nbformat_minor": 5
}
